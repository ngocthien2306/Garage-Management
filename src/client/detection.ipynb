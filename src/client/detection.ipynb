{
 "cells": [
  {
   "cell_type": "code",
   "execution_count": 5,
   "metadata": {},
   "outputs": [
    {
     "name": "stdout",
     "output_type": "stream",
     "text": [
      "Collecting gdown\n",
      "  Downloading gdown-4.6.0-py3-none-any.whl (14 kB)\n",
      "Collecting filelock\n",
      "  Downloading filelock-3.9.0-py3-none-any.whl (9.7 kB)\n",
      "Requirement already satisfied: tqdm in c:\\users\\pc\\anaconda3\\envs\\tf\\lib\\site-packages (from gdown) (4.64.1)\n",
      "Collecting beautifulsoup4\n",
      "  Downloading beautifulsoup4-4.11.1-py3-none-any.whl (128 kB)\n",
      "     -------------------------------------- 128.2/128.2 kB 1.5 MB/s eta 0:00:00\n",
      "Requirement already satisfied: requests[socks] in c:\\users\\pc\\anaconda3\\envs\\tf\\lib\\site-packages (from gdown) (2.28.1)\n",
      "Requirement already satisfied: six in c:\\users\\pc\\anaconda3\\envs\\tf\\lib\\site-packages (from gdown) (1.16.0)\n",
      "Collecting soupsieve>1.2\n",
      "  Downloading soupsieve-2.3.2.post1-py3-none-any.whl (37 kB)\n",
      "Requirement already satisfied: charset-normalizer<3,>=2 in c:\\users\\pc\\anaconda3\\envs\\tf\\lib\\site-packages (from requests[socks]->gdown) (2.1.1)\n",
      "Requirement already satisfied: certifi>=2017.4.17 in c:\\users\\pc\\anaconda3\\envs\\tf\\lib\\site-packages (from requests[socks]->gdown) (2022.12.7)\n",
      "Requirement already satisfied: idna<4,>=2.5 in c:\\users\\pc\\anaconda3\\envs\\tf\\lib\\site-packages (from requests[socks]->gdown) (2.10)\n",
      "Requirement already satisfied: urllib3<1.27,>=1.21.1 in c:\\users\\pc\\anaconda3\\envs\\tf\\lib\\site-packages (from requests[socks]->gdown) (1.26.6)\n",
      "Collecting PySocks!=1.5.7,>=1.5.6\n",
      "  Downloading PySocks-1.7.1-py3-none-any.whl (16 kB)\n",
      "Requirement already satisfied: colorama in c:\\users\\pc\\anaconda3\\envs\\tf\\lib\\site-packages (from tqdm->gdown) (0.4.5)\n",
      "Installing collected packages: soupsieve, PySocks, filelock, beautifulsoup4, gdown\n",
      "Successfully installed PySocks-1.7.1 beautifulsoup4-4.11.1 filelock-3.9.0 gdown-4.6.0 soupsieve-2.3.2.post1\n"
     ]
    }
   ],
   "source": [
    "!pip install gdown"
   ]
  },
  {
   "cell_type": "code",
   "execution_count": 4,
   "metadata": {},
   "outputs": [
    {
     "name": "stdout",
     "output_type": "stream",
     "text": [
      "200\n"
     ]
    }
   ],
   "source": [
    "import requests\n",
    "files = None\n",
    "url = \"http://localhost:5000/recognition_license\"\n",
    "with open(\"images/plate1.jpg\", 'rb') as img:\n",
    "    files = {'file': (\"temp.jpg\", img, 'multipart/form-data', {'Expires': '0'})}\n",
    "    with requests.Session() as s:\n",
    "        r = s.post(url, files=files)\n",
    "        print(r.status_code)"
   ]
  },
  {
   "cell_type": "code",
   "execution_count": 3,
   "metadata": {},
   "outputs": [],
   "source": [
    "import cv2\n",
    "\n",
    "def list_ports():\n",
    "    is_working = True\n",
    "    dev_port = 0\n",
    "    working_ports = []\n",
    "    available_ports = []\n",
    "    while is_working:\n",
    "        camera = cv2.VideoCapture(dev_port)\n",
    "        if not camera.isOpened():\n",
    "            is_working = False\n",
    "            print(\"Port %s is not working.\" %dev_port)\n",
    "        else:\n",
    "            is_reading, img = camera.read()\n",
    "            w = camera.get(3)\n",
    "            h = camera.get(4)\n",
    "            if is_reading:\n",
    "                print(\"Port %s is working and reads images (%s x %s)\" %(dev_port,h,w))\n",
    "                working_ports.append(dev_port)\n",
    "            else:\n",
    "                print(\"Port %s for camera ( %s x %s) is present but does not reads.\" %(dev_port,h,w))\n",
    "                available_ports.append(dev_port)\n",
    "        dev_port +=1\n",
    "    return available_ports,working_ports"
   ]
  },
  {
   "cell_type": "code",
   "execution_count": 4,
   "metadata": {},
   "outputs": [
    {
     "name": "stdout",
     "output_type": "stream",
     "text": [
      "Port 0 is working and reads images (480.0 x 640.0)\n",
      "Port 1 is not working.\n"
     ]
    },
    {
     "name": "stderr",
     "output_type": "stream",
     "text": [
      "[ WARN:0@24.176] global /io/opencv/modules/videoio/src/cap_v4l.cpp (902) open VIDEOIO(V4L2:/dev/video1): can't open camera by index\n"
     ]
    },
    {
     "data": {
      "text/plain": [
       "([], [0])"
      ]
     },
     "execution_count": 4,
     "metadata": {},
     "output_type": "execute_result"
    }
   ],
   "source": [
    "list_ports()"
   ]
  },
  {
   "cell_type": "code",
   "execution_count": 1,
   "metadata": {},
   "outputs": [
    {
     "name": "stdout",
     "output_type": "stream",
     "text": [
      "loading Roboflow workspace...\n",
      "loading Roboflow project...\n"
     ]
    }
   ],
   "source": [
    "from roboflow import Roboflow\n",
    "rf = Roboflow(api_key=\"dyX99EJ9Yo09I3Dj5aDm\")\n",
    "project = rf.workspace().project(\"license-plates-recognition-pntau\")\n",
    "model = project.version(2).model\n"
   ]
  },
  {
   "cell_type": "code",
   "execution_count": 13,
   "metadata": {},
   "outputs": [
    {
     "name": "stdout",
     "output_type": "stream",
     "text": [
      "{'predictions': [{'x': 390.5, 'y': 139.0, 'width': 689, 'height': 278, 'class': 'moto', 'confidence': 0.9, 'image_path': 'temp.jpg', 'prediction_type': 'ObjectDetectionModel'}], 'image': {'width': 853, 'height': 480}}\n"
     ]
    }
   ],
   "source": [
    "# infer on a local image\n",
    "predict = model.predict(\"temp.jpg\", confidence=40, overlap=30).json()\n",
    "print(predict)\n"
   ]
  },
  {
   "cell_type": "code",
   "execution_count": 5,
   "metadata": {},
   "outputs": [
    {
     "name": "stdout",
     "output_type": "stream",
     "text": [
      "{'x': 591.5, 'y': 365.5, 'width': 863, 'height': 697, 'class': 'moto', 'confidence': 0.866, 'image_path': 'images/a_164337.jpg', 'prediction_type': 'ObjectDetectionModel'}\n"
     ]
    }
   ],
   "source": [
    "for data in predict['predictions']:\n",
    "    print(data)"
   ]
  },
  {
   "cell_type": "code",
   "execution_count": 7,
   "metadata": {},
   "outputs": [],
   "source": [
    "x, y, w, h = data['x'], data['y'], data['width'], data['height']"
   ]
  },
  {
   "cell_type": "code",
   "execution_count": 8,
   "metadata": {},
   "outputs": [
    {
     "data": {
      "text/plain": [
       "(591.5, 365.5, 863, 697)"
      ]
     },
     "execution_count": 8,
     "metadata": {},
     "output_type": "execute_result"
    }
   ],
   "source": [
    "x, y, w, h"
   ]
  },
  {
   "cell_type": "code",
   "execution_count": 7,
   "metadata": {},
   "outputs": [
    {
     "data": {
      "text/plain": [
       "'20221215'"
      ]
     },
     "execution_count": 7,
     "metadata": {},
     "output_type": "execute_result"
    }
   ],
   "source": [
    "from datetime import datetime\n",
    "str(datetime.now().date()).replace(\"-\",\"\")"
   ]
  },
  {
   "cell_type": "code",
   "execution_count": 9,
   "metadata": {},
   "outputs": [
    {
     "data": {
      "text/plain": [
       "(480, 853, 3)"
      ]
     },
     "execution_count": 9,
     "metadata": {},
     "output_type": "execute_result"
    }
   ],
   "source": [
    "import cv2\n",
    "img = cv2.imread(\"temp.jpg\")\n",
    "img.shape"
   ]
  },
  {
   "cell_type": "code",
   "execution_count": 15,
   "metadata": {},
   "outputs": [
    {
     "data": {
      "text/plain": [
       "array([[[ 15,  12,  14],\n",
       "        [ 14,  11,  13],\n",
       "        [ 15,  12,  14],\n",
       "        ...,\n",
       "        [213, 226, 204],\n",
       "        [219, 232, 210],\n",
       "        [221, 233, 211]],\n",
       "\n",
       "       [[ 15,  12,  14],\n",
       "        [ 14,  11,  13],\n",
       "        [ 15,  12,  14],\n",
       "        ...,\n",
       "        [200, 216, 193],\n",
       "        [208, 224, 201],\n",
       "        [213, 226, 204]],\n",
       "\n",
       "       [[ 15,  12,  14],\n",
       "        [ 14,  11,  13],\n",
       "        [ 16,  13,  15],\n",
       "        ...,\n",
       "        [179, 198, 177],\n",
       "        [191, 210, 189],\n",
       "        [197, 214, 193]],\n",
       "\n",
       "       ...,\n",
       "\n",
       "       [[185, 189, 194],\n",
       "        [185, 189, 194],\n",
       "        [185, 189, 194],\n",
       "        ...,\n",
       "        [185, 190, 193],\n",
       "        [185, 190, 193],\n",
       "        [185, 190, 193]],\n",
       "\n",
       "       [[183, 190, 193],\n",
       "        [183, 190, 193],\n",
       "        [185, 190, 193],\n",
       "        ...,\n",
       "        [183, 190, 193],\n",
       "        [183, 190, 193],\n",
       "        [183, 190, 193]],\n",
       "\n",
       "       [[183, 190, 193],\n",
       "        [183, 190, 193],\n",
       "        [185, 190, 193],\n",
       "        ...,\n",
       "        [183, 190, 193],\n",
       "        [183, 190, 193],\n",
       "        [183, 190, 193]]], dtype=uint8)"
      ]
     },
     "execution_count": 15,
     "metadata": {},
     "output_type": "execute_result"
    }
   ],
   "source": [
    "x, y, w, h = 390.5, 139.0, 689, 278\n",
    "cv2.rectangle(img, \n",
    "        (int(x-w/2), int(y+h/2)),\n",
    "        (int(x+w/2), int(y-h/2)),\n",
    "        (255, 0, 0), 2)"
   ]
  }
 ],
 "metadata": {
  "kernelspec": {
   "display_name": "Python 3.9.15 ('tf')",
   "language": "python",
   "name": "python3"
  },
  "language_info": {
   "codemirror_mode": {
    "name": "ipython",
    "version": 3
   },
   "file_extension": ".py",
   "mimetype": "text/x-python",
   "name": "python",
   "nbconvert_exporter": "python",
   "pygments_lexer": "ipython3",
   "version": "3.9.15"
  },
  "orig_nbformat": 4,
  "vscode": {
   "interpreter": {
    "hash": "5189243fad43be7f8e8d3cb4543ab2ad97db75cb5cafeb529b891f799005b4bf"
   }
  }
 },
 "nbformat": 4,
 "nbformat_minor": 2
}
